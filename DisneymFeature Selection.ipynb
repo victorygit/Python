{
 "cells": [
  {
   "cell_type": "code",
   "execution_count": 8,
   "metadata": {},
   "outputs": [],
   "source": [
    "import os\n",
    "import pandas as pd\n",
    "import datetime\n",
    "from datetime import datetime\n",
    "import math\n",
    "import numpy as np\n",
    "\n",
    "\n",
    "\n",
    "df_whole = pd.DataFrame()\n",
    "ride_file = \"G:\\\\My Drive\\\\Cindy\\\\IB11\\\\Math IA\\\\ridedatanew\\\\rides.csv\"\n",
    "df_ride = pd.read_csv(ride_file, header=0)\n",
    "meta_file = \"G:\\\\My Drive\\\\Cindy\\\\IB11\\\\Math IA\\\\Metadata\\\\metadata.csv\"\n",
    "df_meta = pd.read_csv(meta_file, header=0)\n"
   ]
  },
  {
   "attachments": {},
   "cell_type": "markdown",
   "metadata": {},
   "source": [
    "Data Exopler"
   ]
  },
  {
   "cell_type": "code",
   "execution_count": 9,
   "metadata": {},
   "outputs": [],
   "source": [
    "#df_explorer =  df_whole[(df_whole[\"Ride\"] == \"philharmagic\") & (df_whole[\"Ride\"] == \"philharmagic\")]\n",
    "#df_explorer = df_explorer.groupby('NewTime',as_index = False).aggregate({'Waittime':'mean'})\n",
    "#print(df_explorer.head(100))\n",
    "#df_explorer.to_csv(\"c://temp//export.csv\")"
   ]
  },
  {
   "cell_type": "markdown",
   "metadata": {},
   "source": [
    "Display the result from source file"
   ]
  },
  {
   "cell_type": "code",
   "execution_count": 10,
   "metadata": {},
   "outputs": [
    {
     "name": "stdout",
     "output_type": "stream",
     "text": [
      "         Unnamed: 0        date          datetime  SACTMIN  SPOSTMIN  \\\n",
      "2861011      298691  12/28/2021  2021-12-28 21:30      NaN      55.0   \n",
      "2861012      298692  12/28/2021  2021-12-28 21:39      NaN      45.0   \n",
      "2861013      298693  12/28/2021  2021-12-28 21:48      NaN      45.0   \n",
      "2861014      298694  12/28/2021  2021-12-28 21:54      NaN      45.0   \n",
      "2861015      298695  12/28/2021  2021-12-28 22:00      NaN      45.0   \n",
      "2861016      298696  12/28/2021  2021-12-28 22:06      NaN      45.0   \n",
      "2861017      298697  12/28/2021  2021-12-28 22:12      NaN      45.0   \n",
      "2861018      298698  12/28/2021  2021-12-28 22:18      NaN      45.0   \n",
      "2861019      298699  12/28/2021  2021-12-28 22:18      NaN      40.0   \n",
      "2861020      298700  12/28/2021  2021-12-28 22:30      NaN      40.0   \n",
      "2861021      298701  12/28/2021  2021-12-28 22:36      NaN      40.0   \n",
      "2861022      298702  12/28/2021  2021-12-28 22:39      NaN      35.0   \n",
      "2861023      298703  12/28/2021  2021-12-28 22:48      NaN      35.0   \n",
      "2861024      298704  12/28/2021  2021-12-28 22:54      NaN      35.0   \n",
      "2861025      298705  12/28/2021  2021-12-28 22:58      NaN      15.0   \n",
      "\n",
      "                  Ride oritime  Hour  Mins NewTime  Waittime  \n",
      "2861011  jungle_cruise   21:30    21    30   21:30      55.0  \n",
      "2861012  jungle_cruise   21:39    21    39   21:30      45.0  \n",
      "2861013  jungle_cruise   21:48    21    48   21:45      45.0  \n",
      "2861014  jungle_cruise   21:54    21    54   21:45      45.0  \n",
      "2861015  jungle_cruise   22:00    22     0   22:00      45.0  \n",
      "2861016  jungle_cruise   22:06    22     6   22:00      45.0  \n",
      "2861017  jungle_cruise   22:12    22    12   22:00      45.0  \n",
      "2861018  jungle_cruise   22:18    22    18   22:15      45.0  \n",
      "2861019  jungle_cruise   22:18    22    18   22:15      40.0  \n",
      "2861020  jungle_cruise   22:30    22    30   22:30      40.0  \n",
      "2861021  jungle_cruise   22:36    22    36   22:30      40.0  \n",
      "2861022  jungle_cruise   22:39    22    39   22:30      35.0  \n",
      "2861023  jungle_cruise   22:48    22    48   22:45      35.0  \n",
      "2861024  jungle_cruise   22:54    22    54   22:45      35.0  \n",
      "2861025  jungle_cruise   22:58    22    58   22:45      15.0  \n",
      "          DATE WDW_TICKET_SEASON  DAYOFWEEK  DAYOFYEAR  WEEKOFYEAR  \\\n",
      "0   01/01/2015               NaN          5          0           0   \n",
      "1   01/02/2015               NaN          6          1           0   \n",
      "2   01/03/2015               NaN          7          2           0   \n",
      "3   01/04/2015               NaN          1          3           1   \n",
      "4   01/05/2015               NaN          2          4           1   \n",
      "5   01/06/2015               NaN          3          5           1   \n",
      "6   01/07/2015               NaN          4          6           1   \n",
      "7   01/08/2015               NaN          5          7           1   \n",
      "8   01/09/2015               NaN          6          8           1   \n",
      "9   01/10/2015               NaN          7          9           1   \n",
      "10  01/11/2015               NaN          1         10           2   \n",
      "11  01/12/2015               NaN          2         11           2   \n",
      "12  01/13/2015               NaN          3         12           2   \n",
      "13  01/14/2015               NaN          4         13           2   \n",
      "14  01/15/2015               NaN          5         14           2   \n",
      "\n",
      "    MONTHOFYEAR  YEAR                         SEASON  HOLIDAYPX  HOLIDAYM  \\\n",
      "0             1  2015                 CHRISTMAS PEAK          0         5   \n",
      "1             1  2015                      CHRISTMAS          2         5   \n",
      "2             1  2015                      CHRISTMAS          3         0   \n",
      "3             1  2015                      CHRISTMAS          4         0   \n",
      "4             1  2015                      CHRISTMAS          5         0   \n",
      "5             1  2015                      CHRISTMAS          6         0   \n",
      "6             1  2015                      CHRISTMAS          7         0   \n",
      "7             1  2015                      CHRISTMAS          8         0   \n",
      "8             1  2015                      CHRISTMAS          9         0   \n",
      "9             1  2015                         WINTER         10         0   \n",
      "10            1  2015                         WINTER          9         0   \n",
      "11            1  2015                         WINTER          8         0   \n",
      "12            1  2015                         WINTER          7         0   \n",
      "13            1  2015                         WINTER          6         0   \n",
      "14            1  2015  MARTIN LUTHER KING JUNIOR DAY          5         0   \n",
      "\n",
      "    ... HSFIREWKS  AKPRDDAY AKPRDDT1 AKPRDDT2 AKPRDDN  AKFIREN  AKSHWNGT  \\\n",
      "0   ...         1         0      NaN      NaN     NaN      NaN         0   \n",
      "1   ...         1         0      NaN      NaN     NaN      NaN         0   \n",
      "2   ...         1         0      NaN      NaN     NaN      NaN         0   \n",
      "3   ...         1         0      NaN      NaN     NaN      NaN         0   \n",
      "4   ...         1         0      NaN      NaN     NaN      NaN         0   \n",
      "5   ...         1         0      NaN      NaN     NaN      NaN         0   \n",
      "6   ...         1         0      NaN      NaN     NaN      NaN         0   \n",
      "7   ...         1         0      NaN      NaN     NaN      NaN         0   \n",
      "8   ...         1         0      NaN      NaN     NaN      NaN         0   \n",
      "9   ...         1         0      NaN      NaN     NaN      NaN         0   \n",
      "10  ...         1         0      NaN      NaN     NaN      NaN         0   \n",
      "11  ...         1         0      NaN      NaN     NaN      NaN         0   \n",
      "12  ...         1         0      NaN      NaN     NaN      NaN         0   \n",
      "13  ...         1         0      NaN      NaN     NaN      NaN         0   \n",
      "14  ...         1         0      NaN      NaN     NaN      NaN         0   \n",
      "\n",
      "   AKSHWNT1  AKSHWNT2  AKSHWNN  \n",
      "0       NaN       NaN      NaN  \n",
      "1       NaN       NaN      NaN  \n",
      "2       NaN       NaN      NaN  \n",
      "3       NaN       NaN      NaN  \n",
      "4       NaN       NaN      NaN  \n",
      "5       NaN       NaN      NaN  \n",
      "6       NaN       NaN      NaN  \n",
      "7       NaN       NaN      NaN  \n",
      "8       NaN       NaN      NaN  \n",
      "9       NaN       NaN      NaN  \n",
      "10      NaN       NaN      NaN  \n",
      "11      NaN       NaN      NaN  \n",
      "12      NaN       NaN      NaN  \n",
      "13      NaN       NaN      NaN  \n",
      "14      NaN       NaN      NaN  \n",
      "\n",
      "[15 rows x 181 columns]\n"
     ]
    }
   ],
   "source": [
    "print(df_ride.tail(15))\n",
    "print(df_meta.head(15))\n"
   ]
  },
  {
   "cell_type": "code",
   "execution_count": 11,
   "metadata": {},
   "outputs": [
    {
     "name": "stdout",
     "output_type": "stream",
     "text": [
      "0    2015\n",
      "1    2015\n",
      "2    2015\n",
      "3    2015\n",
      "4    2015\n",
      "Name: YEAR, dtype: int64\n"
     ]
    }
   ],
   "source": [
    "df_whole = pd.merge(df_ride, df_meta, left_on='date', right_on='DATE', how='inner')\n",
    "#df_meta.info()\n",
    "print(df_whole[\"YEAR\"].head(5))\n",
    "\n"
   ]
  },
  {
   "attachments": {},
   "cell_type": "markdown",
   "metadata": {},
   "source": [
    "Z Test"
   ]
  },
  {
   "cell_type": "code",
   "execution_count": 12,
   "metadata": {},
   "outputs": [
    {
     "name": "stdout",
     "output_type": "stream",
     "text": [
      "30.78498955658843 29.574201150021317\n",
      "27.062681081816304 26.282697425724614\n",
      "363387 347124\n"
     ]
    }
   ],
   "source": [
    "Sun_mean=df_whole.loc[df_whole['DAYOFWEEK']==1,'Waittime'].mean()\n",
    "Thurs_mean=df_whole.loc[df_whole['DAYOFWEEK']==5,'Waittime'].mean()\n",
    "Sun_std=df_whole.loc[df_whole['DAYOFWEEK']==1,'Waittime'].std()\n",
    "Thurs_std=df_whole.loc[df_whole['DAYOFWEEK']==5,'Waittime'].std()\n",
    "no_of_Sun=df_whole.loc[df_whole['DAYOFWEEK'] ==1,'Waittime'].count()\n",
    "no_of_Thurs=df_whole.loc[df_whole['DAYOFWEEK'] ==5,'Waittime'].count()\n",
    "print(Sun_mean, Thurs_mean)\n",
    "print(Sun_std, Thurs_std)\n",
    "print(no_of_Sun, no_of_Thurs)"
   ]
  },
  {
   "cell_type": "code",
   "execution_count": 13,
   "metadata": {},
   "outputs": [
    {
     "name": "stdout",
     "output_type": "stream",
     "text": [
      "1.210788406567115\n",
      "0.06328871071965077\n",
      "19.13119089959866\n",
      "0.0\n",
      "z= 19.13119089959866 p= 0.0\n"
     ]
    }
   ],
   "source": [
    "import numpy\n",
    "from scipy.stats import norm\n",
    "def twoSampZ(X1, X2, mudiff, sd1, sd2, n1, n2):\n",
    "    print((X1 - X2))\n",
    "    pooledSE = numpy.sqrt(sd1**2/n1 + sd2**2/n2)\n",
    "    print(pooledSE)\n",
    "    z = ((X1 - X2) - mudiff)/pooledSE\n",
    "    print(z)\n",
    "    pval = 2*(1 - norm.cdf(abs(z)))\n",
    "    print(pval)\n",
    "    return round(z,30), pval\n",
    "z,p= twoSampZ(Sun_mean,Thurs_mean,0,Sun_std,Thurs_std,no_of_Sun,no_of_Thurs)\n",
    "print('z=', z, 'p=',p)"
   ]
  },
  {
   "cell_type": "code",
   "execution_count": 14,
   "metadata": {},
   "outputs": [
    {
     "name": "stdout",
     "output_type": "stream",
     "text": [
      "1.0\n"
     ]
    }
   ],
   "source": [
    "a = norm.cdf(abs(10))\n",
    "print (a)"
   ]
  },
  {
   "cell_type": "code",
   "execution_count": 15,
   "metadata": {},
   "outputs": [],
   "source": [
    "First_mean=df_whole.loc[(df_whole['MONTHOFYEAR']==3) & (df_whole['Ride'] == 'philharmagic'),'Waittime'].mean()"
   ]
  },
  {
   "attachments": {},
   "cell_type": "markdown",
   "metadata": {},
   "source": [
    "Month of year with ride \"philharmagic\""
   ]
  },
  {
   "cell_type": "code",
   "execution_count": 16,
   "metadata": {},
   "outputs": [
    {
     "name": "stdout",
     "output_type": "stream",
     "text": [
      "10.941305741232489 12.213418479974772\n",
      "5.8505600875667465 6.333856152640777\n",
      "21842 25368\n"
     ]
    }
   ],
   "source": [
    "First_mean=df_whole.loc[(df_whole['MONTHOFYEAR']==1) & (df_whole['Ride'] == 'philharmagic'),'Waittime'].mean()\n",
    "Second_mean=df_whole.loc[(df_whole['MONTHOFYEAR']==7) & (df_whole['Ride'] == 'philharmagic'),'Waittime'].mean()\n",
    "First_std=df_whole.loc[(df_whole['MONTHOFYEAR']==1) & (df_whole['Ride'] == 'philharmagic'),'Waittime'].std()\n",
    "Second_std=df_whole.loc[(df_whole['MONTHOFYEAR']==7) & (df_whole['Ride'] == 'philharmagic'),'Waittime'].std()\n",
    "no_of_First=df_whole.loc[(df_whole['MONTHOFYEAR']==1) & (df_whole['Ride'] == 'philharmagic'),'Waittime'].count()\n",
    "no_of_Second=df_whole.loc[(df_whole['MONTHOFYEAR']==7) & (df_whole['Ride'] == 'philharmagic'),'Waittime'].count()\n",
    "print(First_mean, Second_mean)\n",
    "print(First_std, Second_std)\n",
    "print(no_of_First, no_of_Second)"
   ]
  },
  {
   "cell_type": "code",
   "execution_count": 17,
   "metadata": {},
   "outputs": [
    {
     "name": "stdout",
     "output_type": "stream",
     "text": [
      "z= -22.671 p= 0.0\n"
     ]
    }
   ],
   "source": [
    "import numpy\n",
    "from scipy.stats import norm\n",
    "def twoSampZ(X1, X2, mudiff, sd1, sd2, n1, n2):\n",
    "    pooledSE = numpy.sqrt(sd1**2/n1 + sd2**2/n2)\n",
    "    z = ((X1 - X2) - mudiff)/pooledSE\n",
    "    pval = 2*(1 - norm.cdf(abs(z)))\n",
    "    return round(z,3), pval\n",
    "z,p= twoSampZ(First_mean,Second_mean,0,First_std,Second_std,no_of_First,no_of_Second)\n",
    "print('z=', z, 'p=',p)"
   ]
  },
  {
   "attachments": {},
   "cell_type": "markdown",
   "metadata": {},
   "source": [
    "Loop Throuth Year "
   ]
  },
  {
   "cell_type": "code",
   "execution_count": 48,
   "metadata": {},
   "outputs": [
    {
     "name": "stdout",
     "output_type": "stream",
     "text": [
      "First Month: 11 ;Second Month 12\n",
      "z= -23.69 p= 0.0\n"
     ]
    }
   ],
   "source": [
    "i = 9\n",
    "for j in range(i+1,13):\n",
    "    First_mean=df_whole.loc[(df_whole['MONTHOFYEAR']==i) & (df_whole['Ride'] == 'philharmagic'),'Waittime'].mean() \n",
    "    Second_mean=df_whole.loc[(df_whole['MONTHOFYEAR']==j) & (df_whole['Ride'] == 'philharmagic'),'Waittime'].mean()\n",
    "    First_std=df_whole.loc[(df_whole['MONTHOFYEAR']==i) & (df_whole['Ride'] == 'philharmagic'),'Waittime'].std()\n",
    "    Second_std=df_whole.loc[(df_whole['MONTHOFYEAR']==j) & (df_whole['Ride'] == 'philharmagic'),'Waittime'].std()\n",
    "    no_of_First=df_whole.loc[(df_whole['MONTHOFYEAR']==i) & (df_whole['Ride'] == 'philharmagic'),'Waittime'].count()\n",
    "    no_of_Second=df_whole.loc[(df_whole['MONTHOFYEAR']==j) & (df_whole['Ride'] == 'philharmagic'),'Waittime'].count()     \n",
    "    z,p= twoSampZ(First_mean,Second_mean,0,First_std,Second_std,no_of_First,no_of_Second)\n",
    "    print (\"First Month:\", str(i), \";\" \"Second Month\", str(j))\n",
    "    print('z=', z, 'p=',p)"
   ]
  },
  {
   "attachments": {},
   "cell_type": "markdown",
   "metadata": {},
   "source": [
    "Loop through dayofweek"
   ]
  },
  {
   "cell_type": "code",
   "execution_count": 58,
   "metadata": {},
   "outputs": [
    {
     "name": "stdout",
     "output_type": "stream",
     "text": [
      "First day: 6 : Second day: 7\n",
      "z= -57.423 p= 0.0\n"
     ]
    }
   ],
   "source": [
    "i = 6\n",
    "for j in range(i+1, 8):\n",
    "    Firstday_mean=df_whole.loc[df_whole['DAYOFWEEK']==i,'Waittime'].mean()\n",
    "    Secondday_mean=df_whole.loc[df_whole['DAYOFWEEK']==j,'Waittime'].mean()\n",
    "    Firstday_std=df_whole.loc[df_whole['DAYOFWEEK']==i,'Waittime'].std()\n",
    "    Secondday_std=df_whole.loc[df_whole['DAYOFWEEK']==j,'Waittime'].std()\n",
    "    no_of_Firstday=df_whole.loc[df_whole['DAYOFWEEK'] ==i,'Waittime'].count()\n",
    "    no_of_Secondday=df_whole.loc[df_whole['DAYOFWEEK'] ==j,'Waittime'].count()\n",
    "    z,p= twoSampZ(Firstday_mean,Secondday_mean,0,Firstday_std,Secondday_std,no_of_Firstday,no_of_Secondday)\n",
    "    print(\"First day:\", str(i),\":\",\"Second day:\", str(j))\n",
    "    print('z=', z, 'p=',p)  "
   ]
  },
  {
   "attachments": {},
   "cell_type": "markdown",
   "metadata": {},
   "source": [
    "Pearson Correlation Coefficient"
   ]
  },
  {
   "cell_type": "code",
   "execution_count": 18,
   "metadata": {},
   "outputs": [
    {
     "name": "stdout",
     "output_type": "stream",
     "text": [
      "[[1.         0.98740863]\n",
      " [0.98740863 1.        ]]\n"
     ]
    }
   ],
   "source": [
    "df_whole_waittime_agg = df_whole.groupby('MONTHOFYEAR',as_index = False).aggregate({'Waittime':'mean'})\n",
    "df_MONTHOFYEAR = df_whole_waittime_agg[(df_whole_waittime_agg[\"MONTHOFYEAR\"] <= 3) & (df_whole_waittime_agg[\"MONTHOFYEAR\"] >=1)].MONTHOFYEAR\n",
    "df_waittime = df_whole_waittime_agg[(df_whole_waittime_agg[\"MONTHOFYEAR\"] <= 3) & (df_whole_waittime_agg[\"MONTHOFYEAR\"] >=1)][\"Waittime\"]\n",
    "pcc = np.corrcoef(df_MONTHOFYEAR, df_waittime)\n",
    "print(pcc)"
   ]
  },
  {
   "cell_type": "code",
   "execution_count": 19,
   "metadata": {},
   "outputs": [
    {
     "name": "stdout",
     "output_type": "stream",
     "text": [
      "[[ 1.         -0.42726249]\n",
      " [-0.42726249  1.        ]]\n"
     ]
    }
   ],
   "source": [
    "df_whole_waittime_agg = df_whole.groupby('MONTHOFYEAR',as_index = False).aggregate({'Waittime':'mean'})\n",
    "start_month = 1\n",
    "end_month = 12\n",
    "df_MONTHOFYEAR = df_whole_waittime_agg[(df_whole_waittime_agg[\"MONTHOFYEAR\"] <= end_month) & (df_whole_waittime_agg[\"MONTHOFYEAR\"] >=start_month)].MONTHOFYEAR\n",
    "df_waittime = df_whole_waittime_agg[(df_whole_waittime_agg[\"MONTHOFYEAR\"] <= end_month) & (df_whole_waittime_agg[\"MONTHOFYEAR\"] >=start_month)][\"Waittime\"]\n",
    "pcc = np.corrcoef(df_MONTHOFYEAR, df_waittime)\n",
    "print(pcc)"
   ]
  },
  {
   "attachments": {},
   "cell_type": "markdown",
   "metadata": {},
   "source": [
    "Loop throuth months"
   ]
  },
  {
   "cell_type": "code",
   "execution_count": 20,
   "metadata": {},
   "outputs": [
    {
     "name": "stdout",
     "output_type": "stream",
     "text": [
      "Start Month:  1\n",
      "End Month:  12\n",
      "[[ 1.         -0.42726249]\n",
      " [-0.42726249  1.        ]]\n",
      "Start Month:  1\n",
      "End Month:  3\n",
      "[[1.         0.98740863]\n",
      " [0.98740863 1.        ]]\n",
      "Start Month:  3\n",
      "End Month:  5\n",
      "[[ 1.         -0.98800673]\n",
      " [-0.98800673  1.        ]]\n",
      "Start Month:  6\n",
      "End Month:  9\n",
      "[[ 1.        -0.9733824]\n",
      " [-0.9733824  1.       ]]\n",
      "Start Month:  9\n",
      "End Month:  12\n",
      "[[1.         0.98190356]\n",
      " [0.98190356 1.        ]]\n"
     ]
    }
   ],
   "source": [
    "df_whole_waittime_agg = df_whole.groupby('MONTHOFYEAR',as_index = False).aggregate({'Waittime':'mean'})\n",
    "start_month = 1\n",
    "end_month = 12\n",
    "print(\"Start Month: \", str(start_month))\n",
    "print(\"End Month: \", str(end_month))\n",
    "df_MONTHOFYEAR = df_whole_waittime_agg[(df_whole_waittime_agg[\"MONTHOFYEAR\"] <= end_month) & (df_whole_waittime_agg[\"MONTHOFYEAR\"] >=start_month)].MONTHOFYEAR\n",
    "df_waittime = df_whole_waittime_agg[(df_whole_waittime_agg[\"MONTHOFYEAR\"] <= end_month) & (df_whole_waittime_agg[\"MONTHOFYEAR\"] >=start_month)][\"Waittime\"]\n",
    "pcc = np.corrcoef(df_MONTHOFYEAR, df_waittime)\n",
    "print(pcc)\n",
    "\n",
    "start_month = 1\n",
    "end_month = 3\n",
    "print(\"Start Month: \", str(start_month))\n",
    "print(\"End Month: \", str(end_month))\n",
    "df_MONTHOFYEAR = df_whole_waittime_agg[(df_whole_waittime_agg[\"MONTHOFYEAR\"] <= end_month) & (df_whole_waittime_agg[\"MONTHOFYEAR\"] >=start_month)].MONTHOFYEAR\n",
    "df_waittime = df_whole_waittime_agg[(df_whole_waittime_agg[\"MONTHOFYEAR\"] <= end_month) & (df_whole_waittime_agg[\"MONTHOFYEAR\"] >=start_month)][\"Waittime\"]\n",
    "pcc = np.corrcoef(df_MONTHOFYEAR, df_waittime)\n",
    "print(pcc)\n",
    "start_month = 3\n",
    "end_month = 5\n",
    "print(\"Start Month: \", str(start_month))\n",
    "print(\"End Month: \", str(end_month))\n",
    "df_MONTHOFYEAR = df_whole_waittime_agg[(df_whole_waittime_agg[\"MONTHOFYEAR\"] <= end_month) & (df_whole_waittime_agg[\"MONTHOFYEAR\"] >=start_month)].MONTHOFYEAR\n",
    "df_waittime = df_whole_waittime_agg[(df_whole_waittime_agg[\"MONTHOFYEAR\"] <= end_month) & (df_whole_waittime_agg[\"MONTHOFYEAR\"] >=start_month)][\"Waittime\"]\n",
    "pcc = np.corrcoef(df_MONTHOFYEAR, df_waittime)\n",
    "print(pcc)\n",
    "\n",
    "start_month = 6\n",
    "end_month = 9\n",
    "print(\"Start Month: \", str(start_month))\n",
    "print(\"End Month: \", str(end_month))\n",
    "df_MONTHOFYEAR = df_whole_waittime_agg[(df_whole_waittime_agg[\"MONTHOFYEAR\"] <= end_month) & (df_whole_waittime_agg[\"MONTHOFYEAR\"] >=start_month)].MONTHOFYEAR\n",
    "df_waittime = df_whole_waittime_agg[(df_whole_waittime_agg[\"MONTHOFYEAR\"] <= end_month) & (df_whole_waittime_agg[\"MONTHOFYEAR\"] >=start_month)][\"Waittime\"]\n",
    "pcc = np.corrcoef(df_MONTHOFYEAR, df_waittime)\n",
    "print(pcc)\n",
    "\n",
    "start_month = 9\n",
    "end_month = 12\n",
    "print(\"Start Month: \", str(start_month))\n",
    "print(\"End Month: \", str(end_month))\n",
    "df_MONTHOFYEAR = df_whole_waittime_agg[(df_whole_waittime_agg[\"MONTHOFYEAR\"] <= end_month) & (df_whole_waittime_agg[\"MONTHOFYEAR\"] >=start_month)].MONTHOFYEAR\n",
    "df_waittime = df_whole_waittime_agg[(df_whole_waittime_agg[\"MONTHOFYEAR\"] <= end_month) & (df_whole_waittime_agg[\"MONTHOFYEAR\"] >=start_month)][\"Waittime\"]\n",
    "pcc = np.corrcoef(df_MONTHOFYEAR, df_waittime)\n",
    "print(pcc)\n",
    "\n"
   ]
  },
  {
   "attachments": {},
   "cell_type": "markdown",
   "metadata": {},
   "source": [
    "By DayofYear"
   ]
  },
  {
   "cell_type": "code",
   "execution_count": 21,
   "metadata": {},
   "outputs": [
    {
     "data": {
      "text/html": [
       "<div>\n",
       "<style scoped>\n",
       "    .dataframe tbody tr th:only-of-type {\n",
       "        vertical-align: middle;\n",
       "    }\n",
       "\n",
       "    .dataframe tbody tr th {\n",
       "        vertical-align: top;\n",
       "    }\n",
       "\n",
       "    .dataframe thead th {\n",
       "        text-align: right;\n",
       "    }\n",
       "</style>\n",
       "<table border=\"1\" class=\"dataframe\">\n",
       "  <thead>\n",
       "    <tr style=\"text-align: right;\">\n",
       "      <th></th>\n",
       "      <th>Unnamed: 0</th>\n",
       "      <th>date</th>\n",
       "      <th>datetime</th>\n",
       "      <th>SACTMIN</th>\n",
       "      <th>SPOSTMIN</th>\n",
       "      <th>Ride</th>\n",
       "      <th>oritime</th>\n",
       "      <th>Hour</th>\n",
       "      <th>Mins</th>\n",
       "      <th>NewTime</th>\n",
       "      <th>...</th>\n",
       "      <th>HSFIREWKS</th>\n",
       "      <th>AKPRDDAY</th>\n",
       "      <th>AKPRDDT1</th>\n",
       "      <th>AKPRDDT2</th>\n",
       "      <th>AKPRDDN</th>\n",
       "      <th>AKFIREN</th>\n",
       "      <th>AKSHWNGT</th>\n",
       "      <th>AKSHWNT1</th>\n",
       "      <th>AKSHWNT2</th>\n",
       "      <th>AKSHWNN</th>\n",
       "    </tr>\n",
       "  </thead>\n",
       "  <tbody>\n",
       "    <tr>\n",
       "      <th>0</th>\n",
       "      <td>0</td>\n",
       "      <td>01/01/2015</td>\n",
       "      <td>2015-01-01 8:35</td>\n",
       "      <td>NaN</td>\n",
       "      <td>10.0</td>\n",
       "      <td>SmallWorld</td>\n",
       "      <td>08:35</td>\n",
       "      <td>8</td>\n",
       "      <td>35</td>\n",
       "      <td>08:30</td>\n",
       "      <td>...</td>\n",
       "      <td>1</td>\n",
       "      <td>0</td>\n",
       "      <td>NaN</td>\n",
       "      <td>NaN</td>\n",
       "      <td>NaN</td>\n",
       "      <td>NaN</td>\n",
       "      <td>0</td>\n",
       "      <td>NaN</td>\n",
       "      <td>NaN</td>\n",
       "      <td>NaN</td>\n",
       "    </tr>\n",
       "    <tr>\n",
       "      <th>1</th>\n",
       "      <td>1</td>\n",
       "      <td>01/01/2015</td>\n",
       "      <td>2015-01-01 9:18</td>\n",
       "      <td>NaN</td>\n",
       "      <td>10.0</td>\n",
       "      <td>SmallWorld</td>\n",
       "      <td>09:18</td>\n",
       "      <td>9</td>\n",
       "      <td>18</td>\n",
       "      <td>09:15</td>\n",
       "      <td>...</td>\n",
       "      <td>1</td>\n",
       "      <td>0</td>\n",
       "      <td>NaN</td>\n",
       "      <td>NaN</td>\n",
       "      <td>NaN</td>\n",
       "      <td>NaN</td>\n",
       "      <td>0</td>\n",
       "      <td>NaN</td>\n",
       "      <td>NaN</td>\n",
       "      <td>NaN</td>\n",
       "    </tr>\n",
       "    <tr>\n",
       "      <th>2</th>\n",
       "      <td>2</td>\n",
       "      <td>01/01/2015</td>\n",
       "      <td>2015-01-01 9:52</td>\n",
       "      <td>NaN</td>\n",
       "      <td>40.0</td>\n",
       "      <td>SmallWorld</td>\n",
       "      <td>09:52</td>\n",
       "      <td>9</td>\n",
       "      <td>52</td>\n",
       "      <td>09:45</td>\n",
       "      <td>...</td>\n",
       "      <td>1</td>\n",
       "      <td>0</td>\n",
       "      <td>NaN</td>\n",
       "      <td>NaN</td>\n",
       "      <td>NaN</td>\n",
       "      <td>NaN</td>\n",
       "      <td>0</td>\n",
       "      <td>NaN</td>\n",
       "      <td>NaN</td>\n",
       "      <td>NaN</td>\n",
       "    </tr>\n",
       "    <tr>\n",
       "      <th>3</th>\n",
       "      <td>3</td>\n",
       "      <td>01/01/2015</td>\n",
       "      <td>2015-01-01 10:57</td>\n",
       "      <td>NaN</td>\n",
       "      <td>20.0</td>\n",
       "      <td>SmallWorld</td>\n",
       "      <td>10:57</td>\n",
       "      <td>10</td>\n",
       "      <td>57</td>\n",
       "      <td>10:45</td>\n",
       "      <td>...</td>\n",
       "      <td>1</td>\n",
       "      <td>0</td>\n",
       "      <td>NaN</td>\n",
       "      <td>NaN</td>\n",
       "      <td>NaN</td>\n",
       "      <td>NaN</td>\n",
       "      <td>0</td>\n",
       "      <td>NaN</td>\n",
       "      <td>NaN</td>\n",
       "      <td>NaN</td>\n",
       "    </tr>\n",
       "    <tr>\n",
       "      <th>4</th>\n",
       "      <td>4</td>\n",
       "      <td>01/01/2015</td>\n",
       "      <td>2015-01-01 10:57</td>\n",
       "      <td>33.0</td>\n",
       "      <td>NaN</td>\n",
       "      <td>SmallWorld</td>\n",
       "      <td>10:57</td>\n",
       "      <td>10</td>\n",
       "      <td>57</td>\n",
       "      <td>10:45</td>\n",
       "      <td>...</td>\n",
       "      <td>1</td>\n",
       "      <td>0</td>\n",
       "      <td>NaN</td>\n",
       "      <td>NaN</td>\n",
       "      <td>NaN</td>\n",
       "      <td>NaN</td>\n",
       "      <td>0</td>\n",
       "      <td>NaN</td>\n",
       "      <td>NaN</td>\n",
       "      <td>NaN</td>\n",
       "    </tr>\n",
       "    <tr>\n",
       "      <th>5</th>\n",
       "      <td>5</td>\n",
       "      <td>01/01/2015</td>\n",
       "      <td>2015-01-01 10:59</td>\n",
       "      <td>NaN</td>\n",
       "      <td>30.0</td>\n",
       "      <td>SmallWorld</td>\n",
       "      <td>10:59</td>\n",
       "      <td>10</td>\n",
       "      <td>59</td>\n",
       "      <td>10:45</td>\n",
       "      <td>...</td>\n",
       "      <td>1</td>\n",
       "      <td>0</td>\n",
       "      <td>NaN</td>\n",
       "      <td>NaN</td>\n",
       "      <td>NaN</td>\n",
       "      <td>NaN</td>\n",
       "      <td>0</td>\n",
       "      <td>NaN</td>\n",
       "      <td>NaN</td>\n",
       "      <td>NaN</td>\n",
       "    </tr>\n",
       "    <tr>\n",
       "      <th>6</th>\n",
       "      <td>6</td>\n",
       "      <td>01/01/2015</td>\n",
       "      <td>2015-01-01 11:03</td>\n",
       "      <td>NaN</td>\n",
       "      <td>20.0</td>\n",
       "      <td>SmallWorld</td>\n",
       "      <td>11:03</td>\n",
       "      <td>11</td>\n",
       "      <td>3</td>\n",
       "      <td>11:00</td>\n",
       "      <td>...</td>\n",
       "      <td>1</td>\n",
       "      <td>0</td>\n",
       "      <td>NaN</td>\n",
       "      <td>NaN</td>\n",
       "      <td>NaN</td>\n",
       "      <td>NaN</td>\n",
       "      <td>0</td>\n",
       "      <td>NaN</td>\n",
       "      <td>NaN</td>\n",
       "      <td>NaN</td>\n",
       "    </tr>\n",
       "    <tr>\n",
       "      <th>7</th>\n",
       "      <td>7</td>\n",
       "      <td>01/01/2015</td>\n",
       "      <td>2015-01-01 11:08</td>\n",
       "      <td>NaN</td>\n",
       "      <td>30.0</td>\n",
       "      <td>SmallWorld</td>\n",
       "      <td>11:08</td>\n",
       "      <td>11</td>\n",
       "      <td>8</td>\n",
       "      <td>11:00</td>\n",
       "      <td>...</td>\n",
       "      <td>1</td>\n",
       "      <td>0</td>\n",
       "      <td>NaN</td>\n",
       "      <td>NaN</td>\n",
       "      <td>NaN</td>\n",
       "      <td>NaN</td>\n",
       "      <td>0</td>\n",
       "      <td>NaN</td>\n",
       "      <td>NaN</td>\n",
       "      <td>NaN</td>\n",
       "    </tr>\n",
       "    <tr>\n",
       "      <th>8</th>\n",
       "      <td>8</td>\n",
       "      <td>01/01/2015</td>\n",
       "      <td>2015-01-01 11:10</td>\n",
       "      <td>NaN</td>\n",
       "      <td>55.0</td>\n",
       "      <td>SmallWorld</td>\n",
       "      <td>11:10</td>\n",
       "      <td>11</td>\n",
       "      <td>10</td>\n",
       "      <td>11:00</td>\n",
       "      <td>...</td>\n",
       "      <td>1</td>\n",
       "      <td>0</td>\n",
       "      <td>NaN</td>\n",
       "      <td>NaN</td>\n",
       "      <td>NaN</td>\n",
       "      <td>NaN</td>\n",
       "      <td>0</td>\n",
       "      <td>NaN</td>\n",
       "      <td>NaN</td>\n",
       "      <td>NaN</td>\n",
       "    </tr>\n",
       "    <tr>\n",
       "      <th>9</th>\n",
       "      <td>9</td>\n",
       "      <td>01/01/2015</td>\n",
       "      <td>2015-01-01 11:30</td>\n",
       "      <td>NaN</td>\n",
       "      <td>60.0</td>\n",
       "      <td>SmallWorld</td>\n",
       "      <td>11:30</td>\n",
       "      <td>11</td>\n",
       "      <td>30</td>\n",
       "      <td>11:30</td>\n",
       "      <td>...</td>\n",
       "      <td>1</td>\n",
       "      <td>0</td>\n",
       "      <td>NaN</td>\n",
       "      <td>NaN</td>\n",
       "      <td>NaN</td>\n",
       "      <td>NaN</td>\n",
       "      <td>0</td>\n",
       "      <td>NaN</td>\n",
       "      <td>NaN</td>\n",
       "      <td>NaN</td>\n",
       "    </tr>\n",
       "  </tbody>\n",
       "</table>\n",
       "<p>10 rows × 192 columns</p>\n",
       "</div>"
      ],
      "text/plain": [
       "   Unnamed: 0        date          datetime  SACTMIN  SPOSTMIN        Ride  \\\n",
       "0           0  01/01/2015   2015-01-01 8:35      NaN      10.0  SmallWorld   \n",
       "1           1  01/01/2015   2015-01-01 9:18      NaN      10.0  SmallWorld   \n",
       "2           2  01/01/2015   2015-01-01 9:52      NaN      40.0  SmallWorld   \n",
       "3           3  01/01/2015  2015-01-01 10:57      NaN      20.0  SmallWorld   \n",
       "4           4  01/01/2015  2015-01-01 10:57     33.0       NaN  SmallWorld   \n",
       "5           5  01/01/2015  2015-01-01 10:59      NaN      30.0  SmallWorld   \n",
       "6           6  01/01/2015  2015-01-01 11:03      NaN      20.0  SmallWorld   \n",
       "7           7  01/01/2015  2015-01-01 11:08      NaN      30.0  SmallWorld   \n",
       "8           8  01/01/2015  2015-01-01 11:10      NaN      55.0  SmallWorld   \n",
       "9           9  01/01/2015  2015-01-01 11:30      NaN      60.0  SmallWorld   \n",
       "\n",
       "  oritime  Hour  Mins NewTime  ...  HSFIREWKS AKPRDDAY AKPRDDT1  AKPRDDT2  \\\n",
       "0   08:35     8    35   08:30  ...          1        0      NaN       NaN   \n",
       "1   09:18     9    18   09:15  ...          1        0      NaN       NaN   \n",
       "2   09:52     9    52   09:45  ...          1        0      NaN       NaN   \n",
       "3   10:57    10    57   10:45  ...          1        0      NaN       NaN   \n",
       "4   10:57    10    57   10:45  ...          1        0      NaN       NaN   \n",
       "5   10:59    10    59   10:45  ...          1        0      NaN       NaN   \n",
       "6   11:03    11     3   11:00  ...          1        0      NaN       NaN   \n",
       "7   11:08    11     8   11:00  ...          1        0      NaN       NaN   \n",
       "8   11:10    11    10   11:00  ...          1        0      NaN       NaN   \n",
       "9   11:30    11    30   11:30  ...          1        0      NaN       NaN   \n",
       "\n",
       "   AKPRDDN  AKFIREN  AKSHWNGT  AKSHWNT1 AKSHWNT2  AKSHWNN  \n",
       "0      NaN      NaN         0       NaN      NaN      NaN  \n",
       "1      NaN      NaN         0       NaN      NaN      NaN  \n",
       "2      NaN      NaN         0       NaN      NaN      NaN  \n",
       "3      NaN      NaN         0       NaN      NaN      NaN  \n",
       "4      NaN      NaN         0       NaN      NaN      NaN  \n",
       "5      NaN      NaN         0       NaN      NaN      NaN  \n",
       "6      NaN      NaN         0       NaN      NaN      NaN  \n",
       "7      NaN      NaN         0       NaN      NaN      NaN  \n",
       "8      NaN      NaN         0       NaN      NaN      NaN  \n",
       "9      NaN      NaN         0       NaN      NaN      NaN  \n",
       "\n",
       "[10 rows x 192 columns]"
      ]
     },
     "metadata": {},
     "output_type": "display_data"
    }
   ],
   "source": [
    "display(df_whole.head(10))"
   ]
  },
  {
   "attachments": {},
   "cell_type": "markdown",
   "metadata": {},
   "source": [
    "Loop through day"
   ]
  },
  {
   "cell_type": "code",
   "execution_count": 31,
   "metadata": {},
   "outputs": [
    {
     "name": "stdout",
     "output_type": "stream",
     "text": [
      "Start Day:  1\n",
      "End Day:  7\n",
      "[[ 1.         -0.11122968]\n",
      " [-0.11122968  1.        ]]\n",
      "Start Day:  1\n",
      "End Day:  2\n",
      "[[1. 1.]\n",
      " [1. 1.]]\n",
      "Start Day:  2\n",
      "End Day:  5\n",
      "[[ 1.         -0.92803836]\n",
      " [-0.92803836  1.        ]]\n",
      "Start Day:  5\n",
      "End Day:  6\n",
      "[[1. 1.]\n",
      " [1. 1.]]\n",
      "Start Day:  6\n",
      "End Day:  7\n",
      "[[1. 1.]\n",
      " [1. 1.]]\n"
     ]
    }
   ],
   "source": [
    "df_whole_waittime_DAYOFWEEK_agg = df_whole.groupby('DAYOFWEEK',as_index = False).aggregate({'Waittime':'mean'})\n",
    "start_day = 1\n",
    "end_day = 7\n",
    "print(\"Start Day: \", str(start_day))\n",
    "print(\"End Day: \", str(end_day))\n",
    "df_DAYOFWEEK = df_whole_waittime_DAYOFWEEK_agg[(df_whole_waittime_DAYOFWEEK_agg[\"DAYOFWEEK\"] <= end_day) & (df_whole_waittime_DAYOFWEEK_agg[\"DAYOFWEEK\"] >=start_day)].DAYOFWEEK\n",
    "df_dayofyear_waittime = df_whole_waittime_DAYOFWEEK_agg[(df_whole_waittime_DAYOFWEEK_agg[\"DAYOFWEEK\"] <= end_day) & (df_whole_waittime_DAYOFWEEK_agg[\"DAYOFWEEK\"] >=start_day)][\"Waittime\"]\n",
    "pcc = np.corrcoef(df_DAYOFWEEK, df_dayofyear_waittime)\n",
    "print(pcc)\n",
    "\n",
    "start_day = 1\n",
    "end_day = 2\n",
    "print(\"Start Day: \", str(start_day))\n",
    "print(\"End Day: \", str(end_day))\n",
    "df_DAYOFWEEK = df_whole_waittime_DAYOFWEEK_agg[(df_whole_waittime_DAYOFWEEK_agg[\"DAYOFWEEK\"] <= end_day) & (df_whole_waittime_DAYOFWEEK_agg[\"DAYOFWEEK\"] >=start_day)].DAYOFWEEK\n",
    "df_dayofyear_waittime = df_whole_waittime_DAYOFWEEK_agg[(df_whole_waittime_DAYOFWEEK_agg[\"DAYOFWEEK\"] <= end_day) & (df_whole_waittime_DAYOFWEEK_agg[\"DAYOFWEEK\"] >=start_day)][\"Waittime\"]\n",
    "pcc = np.corrcoef(df_DAYOFWEEK, df_dayofyear_waittime)\n",
    "print(pcc)\n",
    "\n",
    "start_day = 2\n",
    "end_day = 5\n",
    "print(\"Start Day: \", str(start_day))\n",
    "print(\"End Day: \", str(end_day))\n",
    "df_DAYOFWEEK = df_whole_waittime_DAYOFWEEK_agg[(df_whole_waittime_DAYOFWEEK_agg[\"DAYOFWEEK\"] <= end_day) & (df_whole_waittime_DAYOFWEEK_agg[\"DAYOFWEEK\"] >=start_day)].DAYOFWEEK\n",
    "df_dayofyear_waittime = df_whole_waittime_DAYOFWEEK_agg[(df_whole_waittime_DAYOFWEEK_agg[\"DAYOFWEEK\"] <= end_day) & (df_whole_waittime_DAYOFWEEK_agg[\"DAYOFWEEK\"] >=start_day)][\"Waittime\"]\n",
    "pcc = np.corrcoef(df_DAYOFWEEK, df_dayofyear_waittime)\n",
    "print(pcc)\n",
    "\n",
    "start_day = 5\n",
    "end_day = 6\n",
    "print(\"Start Day: \", str(start_day))\n",
    "print(\"End Day: \", str(end_day))\n",
    "df_DAYOFWEEK = df_whole_waittime_DAYOFWEEK_agg[(df_whole_waittime_DAYOFWEEK_agg[\"DAYOFWEEK\"] <= end_day) & (df_whole_waittime_DAYOFWEEK_agg[\"DAYOFWEEK\"] >=start_day)].DAYOFWEEK\n",
    "df_dayofyear_waittime = df_whole_waittime_DAYOFWEEK_agg[(df_whole_waittime_DAYOFWEEK_agg[\"DAYOFWEEK\"] <= end_day) & (df_whole_waittime_DAYOFWEEK_agg[\"DAYOFWEEK\"] >=start_day)][\"Waittime\"]\n",
    "pcc = np.corrcoef(df_DAYOFWEEK, df_dayofyear_waittime)\n",
    "print(pcc)\n",
    "\n",
    "start_day = 6\n",
    "end_day = 7\n",
    "print(\"Start Day: \", str(start_day))\n",
    "print(\"End Day: \", str(end_day))\n",
    "df_DAYOFWEEK = df_whole_waittime_DAYOFWEEK_agg[(df_whole_waittime_DAYOFWEEK_agg[\"DAYOFWEEK\"] <= end_day) & (df_whole_waittime_DAYOFWEEK_agg[\"DAYOFWEEK\"] >=start_day)].DAYOFWEEK\n",
    "df_dayofyear_waittime = df_whole_waittime_DAYOFWEEK_agg[(df_whole_waittime_DAYOFWEEK_agg[\"DAYOFWEEK\"] <= end_day) & (df_whole_waittime_DAYOFWEEK_agg[\"DAYOFWEEK\"] >=start_day)][\"Waittime\"]\n",
    "pcc = np.corrcoef(df_DAYOFWEEK, df_dayofyear_waittime)\n",
    "print(pcc)"
   ]
  },
  {
   "cell_type": "code",
   "execution_count": 19,
   "metadata": {},
   "outputs": [
    {
     "name": "stdout",
     "output_type": "stream",
     "text": [
      "Index(['Unnamed: 0', 'date', 'datetime', 'SACTMIN', 'SPOSTMIN', 'Ride',\n",
      "       'oritime', 'Hour', 'Mins', 'NewTime',\n",
      "       ...\n",
      "       'HSFIREWKS', 'AKPRDDAY', 'AKPRDDT1', 'AKPRDDT2', 'AKPRDDN', 'AKFIREN',\n",
      "       'AKSHWNGT', 'AKSHWNT1', 'AKSHWNT2', 'AKSHWNN'],\n",
      "      dtype='object', length=192)\n"
     ]
    }
   ],
   "source": [
    "print(df_whole.columns)"
   ]
  },
  {
   "attachments": {},
   "cell_type": "markdown",
   "metadata": {},
   "source": [
    "Aggregation"
   ]
  },
  {
   "cell_type": "code",
   "execution_count": 20,
   "metadata": {},
   "outputs": [
    {
     "name": "stdout",
     "output_type": "stream",
     "text": [
      "   NewTime   Waittime  numtime\n",
      "0    00:00   9.697537     0.00\n",
      "1    00:15   9.115983     0.15\n",
      "2    00:30   8.633333     0.30\n",
      "3    00:45   7.885906     0.45\n",
      "4    01:00   8.201635     1.00\n",
      "..     ...        ...      ...\n",
      "91   22:45  11.811428    22.45\n",
      "92   23:00  11.323538    23.00\n",
      "93   23:15  11.303677    23.15\n",
      "94   23:30  10.459746    23.30\n",
      "95   23:45  10.112708    23.45\n",
      "\n",
      "[96 rows x 3 columns]\n"
     ]
    }
   ],
   "source": [
    "df_whole_time_agg = df_whole.groupby('NewTime',as_index = False).aggregate({'Waittime':'mean'})\n",
    "df_whole_time_agg['numtime'] = df_whole_time_agg.apply(lambda x: x['NewTime'].replace(\":\",\".\"), axis=1)\n",
    "df_whole_time_agg['numtime']  = pd.to_numeric(df_whole_time_agg['numtime'])\n",
    "print(df_whole_time_agg)"
   ]
  },
  {
   "attachments": {},
   "cell_type": "markdown",
   "metadata": {},
   "source": [
    "whole day (9:00 to 23:00)"
   ]
  },
  {
   "cell_type": "code",
   "execution_count": 21,
   "metadata": {},
   "outputs": [
    {
     "name": "stdout",
     "output_type": "stream",
     "text": [
      "[[ 1.         -0.60292292]\n",
      " [-0.60292292  1.        ]]\n"
     ]
    }
   ],
   "source": [
    "df_NewTime = df_whole_time_agg[(df_whole_time_agg[\"NewTime\"] <= \"23:00\") & (df_whole_time_agg[\"NewTime\"] >=\"09:00\")].numtime\n",
    "df_waittime = df_whole_time_agg[(df_whole_time_agg[\"NewTime\"] <= \"23:00\") & (df_whole_time_agg[\"NewTime\"] >=\"09:00\")][\"Waittime\"]\n",
    "pcc = np.corrcoef(df_NewTime, df_waittime)\n",
    "print(pcc)"
   ]
  },
  {
   "attachments": {},
   "cell_type": "markdown",
   "metadata": {},
   "source": [
    "morning (9:00 - 11:00)"
   ]
  },
  {
   "cell_type": "code",
   "execution_count": 22,
   "metadata": {},
   "outputs": [
    {
     "name": "stdout",
     "output_type": "stream",
     "text": [
      "[[1.         0.92947435]\n",
      " [0.92947435 1.        ]]\n"
     ]
    }
   ],
   "source": [
    "df_NewTime = df_whole_time_agg[(df_whole_time_agg[\"NewTime\"] <= \"11:00\") & (df_whole_time_agg[\"NewTime\"] >=\"09:00\")].numtime\n",
    "df_waittime = df_whole_time_agg[(df_whole_time_agg[\"NewTime\"] <= \"11:00\") & (df_whole_time_agg[\"NewTime\"] >=\"09:00\")][\"Waittime\"]\n",
    "pcc = np.corrcoef(df_NewTime, df_waittime)\n",
    "print(pcc)"
   ]
  },
  {
   "attachments": {},
   "cell_type": "markdown",
   "metadata": {},
   "source": [
    "Afternoon (12:00 - 23:00)"
   ]
  },
  {
   "cell_type": "code",
   "execution_count": 23,
   "metadata": {},
   "outputs": [
    {
     "name": "stdout",
     "output_type": "stream",
     "text": [
      "[[ 1.         -0.92962152]\n",
      " [-0.92962152  1.        ]]\n"
     ]
    }
   ],
   "source": [
    "df_NewTime = df_whole_time_agg[(df_whole_time_agg[\"NewTime\"] <= \"23:00\") & (df_whole_time_agg[\"NewTime\"] >=\"12:00\")].numtime\n",
    "df_waittime = df_whole_time_agg[(df_whole_time_agg[\"NewTime\"] <= \"23:00\") & (df_whole_time_agg[\"NewTime\"] >=\"12:00\")][\"Waittime\"]\n",
    "pcc = np.corrcoef(df_NewTime, df_waittime)\n",
    "print(pcc)"
   ]
  },
  {
   "attachments": {},
   "cell_type": "markdown",
   "metadata": {},
   "source": [
    "ANOVA Test"
   ]
  },
  {
   "cell_type": "code",
   "execution_count": 24,
   "metadata": {},
   "outputs": [
    {
     "name": "stdout",
     "output_type": "stream",
     "text": [
      "[5 6 7 1 2 3 4]\n",
      "F =1400.5261813453326,p=0.0\n"
     ]
    }
   ],
   "source": [
    "from scipy import stats\n",
    "grps = pd.unique(df_whole.DAYOFWEEK.values)\n",
    "print(grps)\n",
    "d_data = {grp:df_whole['Waittime'][df_whole.DAYOFWEEK == grp] for grp in grps}\n",
    "#Test with same value\n",
    "#F, p = stats.f_oneway(d_data[1], d_data[1], d_data[1],d_data[1],d_data[1],d_data[1],d_data[1])\n",
    "F, p = stats.f_oneway(d_data[1], d_data[2], d_data[3],d_data[4],d_data[5],d_data[6],d_data[7])\n",
    "print('F ={},p={}'.format(F,p))"
   ]
  },
  {
   "attachments": {},
   "cell_type": "markdown",
   "metadata": {},
   "source": [
    "Chi-Square Test"
   ]
  },
  {
   "cell_type": "code",
   "execution_count": 25,
   "metadata": {},
   "outputs": [
    {
     "data": {
      "text/html": [
       "<div>\n",
       "<style scoped>\n",
       "    .dataframe tbody tr th:only-of-type {\n",
       "        vertical-align: middle;\n",
       "    }\n",
       "\n",
       "    .dataframe tbody tr th {\n",
       "        vertical-align: top;\n",
       "    }\n",
       "\n",
       "    .dataframe thead th {\n",
       "        text-align: right;\n",
       "    }\n",
       "</style>\n",
       "<table border=\"1\" class=\"dataframe\">\n",
       "  <thead>\n",
       "    <tr style=\"text-align: right;\">\n",
       "      <th>Waittime</th>\n",
       "      <th>0.0</th>\n",
       "      <th>5.0</th>\n",
       "      <th>10.0</th>\n",
       "      <th>15.0</th>\n",
       "      <th>20.0</th>\n",
       "      <th>25.0</th>\n",
       "      <th>30.0</th>\n",
       "      <th>35.0</th>\n",
       "      <th>40.0</th>\n",
       "      <th>45.0</th>\n",
       "      <th>...</th>\n",
       "      <th>195.0</th>\n",
       "      <th>200.0</th>\n",
       "      <th>205.0</th>\n",
       "      <th>210.0</th>\n",
       "      <th>215.0</th>\n",
       "      <th>220.0</th>\n",
       "      <th>225.0</th>\n",
       "      <th>230.0</th>\n",
       "      <th>240.0</th>\n",
       "      <th>250.0</th>\n",
       "    </tr>\n",
       "    <tr>\n",
       "      <th>MONTHOFYEAR</th>\n",
       "      <th></th>\n",
       "      <th></th>\n",
       "      <th></th>\n",
       "      <th></th>\n",
       "      <th></th>\n",
       "      <th></th>\n",
       "      <th></th>\n",
       "      <th></th>\n",
       "      <th></th>\n",
       "      <th></th>\n",
       "      <th></th>\n",
       "      <th></th>\n",
       "      <th></th>\n",
       "      <th></th>\n",
       "      <th></th>\n",
       "      <th></th>\n",
       "      <th></th>\n",
       "      <th></th>\n",
       "      <th></th>\n",
       "      <th></th>\n",
       "      <th></th>\n",
       "    </tr>\n",
       "  </thead>\n",
       "  <tbody>\n",
       "    <tr>\n",
       "      <th>1</th>\n",
       "      <td>130</td>\n",
       "      <td>23030</td>\n",
       "      <td>39710</td>\n",
       "      <td>19806</td>\n",
       "      <td>18283</td>\n",
       "      <td>12528</td>\n",
       "      <td>13833</td>\n",
       "      <td>9910</td>\n",
       "      <td>10846</td>\n",
       "      <td>9137</td>\n",
       "      <td>...</td>\n",
       "      <td>16</td>\n",
       "      <td>12</td>\n",
       "      <td>7</td>\n",
       "      <td>14</td>\n",
       "      <td>10</td>\n",
       "      <td>1</td>\n",
       "      <td>0</td>\n",
       "      <td>5</td>\n",
       "      <td>10</td>\n",
       "      <td>1</td>\n",
       "    </tr>\n",
       "    <tr>\n",
       "      <th>2</th>\n",
       "      <td>40</td>\n",
       "      <td>19257</td>\n",
       "      <td>34578</td>\n",
       "      <td>17219</td>\n",
       "      <td>15269</td>\n",
       "      <td>12045</td>\n",
       "      <td>13091</td>\n",
       "      <td>10013</td>\n",
       "      <td>10877</td>\n",
       "      <td>9290</td>\n",
       "      <td>...</td>\n",
       "      <td>16</td>\n",
       "      <td>21</td>\n",
       "      <td>5</td>\n",
       "      <td>33</td>\n",
       "      <td>3</td>\n",
       "      <td>0</td>\n",
       "      <td>1</td>\n",
       "      <td>4</td>\n",
       "      <td>0</td>\n",
       "      <td>0</td>\n",
       "    </tr>\n",
       "    <tr>\n",
       "      <th>3</th>\n",
       "      <td>118</td>\n",
       "      <td>16890</td>\n",
       "      <td>33265</td>\n",
       "      <td>18548</td>\n",
       "      <td>15660</td>\n",
       "      <td>12889</td>\n",
       "      <td>13018</td>\n",
       "      <td>10521</td>\n",
       "      <td>10662</td>\n",
       "      <td>10798</td>\n",
       "      <td>...</td>\n",
       "      <td>30</td>\n",
       "      <td>23</td>\n",
       "      <td>5</td>\n",
       "      <td>3</td>\n",
       "      <td>2</td>\n",
       "      <td>0</td>\n",
       "      <td>1</td>\n",
       "      <td>0</td>\n",
       "      <td>1</td>\n",
       "      <td>0</td>\n",
       "    </tr>\n",
       "  </tbody>\n",
       "</table>\n",
       "<p>3 rows × 49 columns</p>\n",
       "</div>"
      ],
      "text/plain": [
       "Waittime     0.0    5.0    10.0   15.0   20.0   25.0   30.0   35.0   40.0   \\\n",
       "MONTHOFYEAR                                                                  \n",
       "1              130  23030  39710  19806  18283  12528  13833   9910  10846   \n",
       "2               40  19257  34578  17219  15269  12045  13091  10013  10877   \n",
       "3              118  16890  33265  18548  15660  12889  13018  10521  10662   \n",
       "\n",
       "Waittime     45.0   ...  195.0  200.0  205.0  210.0  215.0  220.0  225.0  \\\n",
       "MONTHOFYEAR         ...                                                    \n",
       "1             9137  ...     16     12      7     14     10      1      0   \n",
       "2             9290  ...     16     21      5     33      3      0      1   \n",
       "3            10798  ...     30     23      5      3      2      0      1   \n",
       "\n",
       "Waittime     230.0  240.0  250.0  \n",
       "MONTHOFYEAR                       \n",
       "1                5     10      1  \n",
       "2                4      0      0  \n",
       "3                0      1      0  \n",
       "\n",
       "[3 rows x 49 columns]"
      ]
     },
     "execution_count": 25,
     "metadata": {},
     "output_type": "execute_result"
    }
   ],
   "source": [
    "dataset_table=pd.crosstab(df_whole[(df_whole[\"MONTHOFYEAR\"] <= 3) & (df_whole[\"MONTHOFYEAR\"] >=1)][\"MONTHOFYEAR\"],df_whole[(df_whole[\"MONTHOFYEAR\"] <= 3) & (df_whole[\"MONTHOFYEAR\"] >=1)][\"Waittime\"])\n",
    "dataset_table"
   ]
  }
 ],
 "metadata": {
  "kernelspec": {
   "display_name": "Python 3.9.7 64-bit",
   "language": "python",
   "name": "python3"
  },
  "language_info": {
   "codemirror_mode": {
    "name": "ipython",
    "version": 3
   },
   "file_extension": ".py",
   "mimetype": "text/x-python",
   "name": "python",
   "nbconvert_exporter": "python",
   "pygments_lexer": "ipython3",
   "version": "3.9.7"
  },
  "orig_nbformat": 4,
  "vscode": {
   "interpreter": {
    "hash": "6752f5b08c1783b914aae51d910f67c7fdce8653a075e9fcde9adeff71b7d222"
   }
  }
 },
 "nbformat": 4,
 "nbformat_minor": 2
}
