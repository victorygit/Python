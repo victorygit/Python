{
 "cells": [
  {
   "cell_type": "code",
   "execution_count": 1,
   "metadata": {},
   "outputs": [],
   "source": [
    "import os\n",
    "import pandas as pd\n",
    "import datetime\n",
    "from datetime import datetime\n",
    "import math\n",
    "import numpy as np\n",
    "\n",
    "\n",
    "\n",
    "df_whole = pd.DataFrame()\n",
    "ride_file = \"G:\\\\My Drive\\\\Cindy\\\\IB11\\\\Math IA\\\\ridedatanew\\\\rides.csv\"\n",
    "df_ride = pd.read_csv(ride_file, header=0)\n",
    "meta_file = \"G:\\\\My Drive\\\\Cindy\\\\IB11\\\\Math IA\\\\Metadata\\\\metadata.csv\"\n",
    "df_meta = pd.read_csv(meta_file, header=0)\n"
   ]
  },
  {
   "cell_type": "markdown",
   "metadata": {},
   "source": [
    "Display the result from source file"
   ]
  },
  {
   "cell_type": "code",
   "execution_count": 4,
   "metadata": {},
   "outputs": [
    {
     "name": "stdout",
     "output_type": "stream",
     "text": [
      "         Unnamed: 0        date          datetime  SACTMIN  SPOSTMIN  \\\n",
      "2861011      298691  12/28/2021  2021-12-28 21:30      NaN      55.0   \n",
      "2861012      298692  12/28/2021  2021-12-28 21:39      NaN      45.0   \n",
      "2861013      298693  12/28/2021  2021-12-28 21:48      NaN      45.0   \n",
      "2861014      298694  12/28/2021  2021-12-28 21:54      NaN      45.0   \n",
      "2861015      298695  12/28/2021  2021-12-28 22:00      NaN      45.0   \n",
      "2861016      298696  12/28/2021  2021-12-28 22:06      NaN      45.0   \n",
      "2861017      298697  12/28/2021  2021-12-28 22:12      NaN      45.0   \n",
      "2861018      298698  12/28/2021  2021-12-28 22:18      NaN      45.0   \n",
      "2861019      298699  12/28/2021  2021-12-28 22:18      NaN      40.0   \n",
      "2861020      298700  12/28/2021  2021-12-28 22:30      NaN      40.0   \n",
      "2861021      298701  12/28/2021  2021-12-28 22:36      NaN      40.0   \n",
      "2861022      298702  12/28/2021  2021-12-28 22:39      NaN      35.0   \n",
      "2861023      298703  12/28/2021  2021-12-28 22:48      NaN      35.0   \n",
      "2861024      298704  12/28/2021  2021-12-28 22:54      NaN      35.0   \n",
      "2861025      298705  12/28/2021  2021-12-28 22:58      NaN      15.0   \n",
      "\n",
      "                  Ride oritime  Hour  Mins NewTime  Waittime  \n",
      "2861011  jungle_cruise   21:30    21    30   21:30      55.0  \n",
      "2861012  jungle_cruise   21:39    21    39   21:30      45.0  \n",
      "2861013  jungle_cruise   21:48    21    48   21:45      45.0  \n",
      "2861014  jungle_cruise   21:54    21    54   21:45      45.0  \n",
      "2861015  jungle_cruise   22:00    22     0   22:00      45.0  \n",
      "2861016  jungle_cruise   22:06    22     6   22:00      45.0  \n",
      "2861017  jungle_cruise   22:12    22    12   22:00      45.0  \n",
      "2861018  jungle_cruise   22:18    22    18   22:15      45.0  \n",
      "2861019  jungle_cruise   22:18    22    18   22:15      40.0  \n",
      "2861020  jungle_cruise   22:30    22    30   22:30      40.0  \n",
      "2861021  jungle_cruise   22:36    22    36   22:30      40.0  \n",
      "2861022  jungle_cruise   22:39    22    39   22:30      35.0  \n",
      "2861023  jungle_cruise   22:48    22    48   22:45      35.0  \n",
      "2861024  jungle_cruise   22:54    22    54   22:45      35.0  \n",
      "2861025  jungle_cruise   22:58    22    58   22:45      15.0  \n",
      "          DATE WDW_TICKET_SEASON  DAYOFWEEK  DAYOFYEAR  WEEKOFYEAR  \\\n",
      "0   01/01/2015               NaN          5          0           0   \n",
      "1   01/02/2015               NaN          6          1           0   \n",
      "2   01/03/2015               NaN          7          2           0   \n",
      "3   01/04/2015               NaN          1          3           1   \n",
      "4   01/05/2015               NaN          2          4           1   \n",
      "5   01/06/2015               NaN          3          5           1   \n",
      "6   01/07/2015               NaN          4          6           1   \n",
      "7   01/08/2015               NaN          5          7           1   \n",
      "8   01/09/2015               NaN          6          8           1   \n",
      "9   01/10/2015               NaN          7          9           1   \n",
      "10  01/11/2015               NaN          1         10           2   \n",
      "11  01/12/2015               NaN          2         11           2   \n",
      "12  01/13/2015               NaN          3         12           2   \n",
      "13  01/14/2015               NaN          4         13           2   \n",
      "14  01/15/2015               NaN          5         14           2   \n",
      "\n",
      "    MONTHOFYEAR  YEAR                         SEASON  HOLIDAYPX  HOLIDAYM  \\\n",
      "0             1  2015                 CHRISTMAS PEAK          0         5   \n",
      "1             1  2015                      CHRISTMAS          2         5   \n",
      "2             1  2015                      CHRISTMAS          3         0   \n",
      "3             1  2015                      CHRISTMAS          4         0   \n",
      "4             1  2015                      CHRISTMAS          5         0   \n",
      "5             1  2015                      CHRISTMAS          6         0   \n",
      "6             1  2015                      CHRISTMAS          7         0   \n",
      "7             1  2015                      CHRISTMAS          8         0   \n",
      "8             1  2015                      CHRISTMAS          9         0   \n",
      "9             1  2015                         WINTER         10         0   \n",
      "10            1  2015                         WINTER          9         0   \n",
      "11            1  2015                         WINTER          8         0   \n",
      "12            1  2015                         WINTER          7         0   \n",
      "13            1  2015                         WINTER          6         0   \n",
      "14            1  2015  MARTIN LUTHER KING JUNIOR DAY          5         0   \n",
      "\n",
      "    ... HSFIREWKS  AKPRDDAY AKPRDDT1 AKPRDDT2 AKPRDDN  AKFIREN  AKSHWNGT  \\\n",
      "0   ...         1         0      NaN      NaN     NaN      NaN         0   \n",
      "1   ...         1         0      NaN      NaN     NaN      NaN         0   \n",
      "2   ...         1         0      NaN      NaN     NaN      NaN         0   \n",
      "3   ...         1         0      NaN      NaN     NaN      NaN         0   \n",
      "4   ...         1         0      NaN      NaN     NaN      NaN         0   \n",
      "5   ...         1         0      NaN      NaN     NaN      NaN         0   \n",
      "6   ...         1         0      NaN      NaN     NaN      NaN         0   \n",
      "7   ...         1         0      NaN      NaN     NaN      NaN         0   \n",
      "8   ...         1         0      NaN      NaN     NaN      NaN         0   \n",
      "9   ...         1         0      NaN      NaN     NaN      NaN         0   \n",
      "10  ...         1         0      NaN      NaN     NaN      NaN         0   \n",
      "11  ...         1         0      NaN      NaN     NaN      NaN         0   \n",
      "12  ...         1         0      NaN      NaN     NaN      NaN         0   \n",
      "13  ...         1         0      NaN      NaN     NaN      NaN         0   \n",
      "14  ...         1         0      NaN      NaN     NaN      NaN         0   \n",
      "\n",
      "   AKSHWNT1  AKSHWNT2  AKSHWNN  \n",
      "0       NaN       NaN      NaN  \n",
      "1       NaN       NaN      NaN  \n",
      "2       NaN       NaN      NaN  \n",
      "3       NaN       NaN      NaN  \n",
      "4       NaN       NaN      NaN  \n",
      "5       NaN       NaN      NaN  \n",
      "6       NaN       NaN      NaN  \n",
      "7       NaN       NaN      NaN  \n",
      "8       NaN       NaN      NaN  \n",
      "9       NaN       NaN      NaN  \n",
      "10      NaN       NaN      NaN  \n",
      "11      NaN       NaN      NaN  \n",
      "12      NaN       NaN      NaN  \n",
      "13      NaN       NaN      NaN  \n",
      "14      NaN       NaN      NaN  \n",
      "\n",
      "[15 rows x 181 columns]\n"
     ]
    }
   ],
   "source": [
    "print(df_ride.tail(15))\n",
    "print(df_meta.head(15))\n"
   ]
  },
  {
   "cell_type": "code",
   "execution_count": 4,
   "metadata": {},
   "outputs": [
    {
     "name": "stdout",
     "output_type": "stream",
     "text": [
      "0    2015\n",
      "1    2015\n",
      "2    2015\n",
      "3    2015\n",
      "4    2015\n",
      "Name: YEAR, dtype: int64\n"
     ]
    }
   ],
   "source": [
    "df_whole = pd.merge(df_ride, df_meta, left_on='date', right_on='DATE', how='inner')\n",
    "#df_meta.info()\n",
    "print(df_whole[\"YEAR\"].head(5))\n",
    "\n"
   ]
  },
  {
   "cell_type": "code",
   "execution_count": 35,
   "metadata": {},
   "outputs": [
    {
     "name": "stdout",
     "output_type": "stream",
     "text": [
      "30.78498955658843 29.574201150021317\n",
      "27.062681081816304 26.282697425724614\n",
      "363387 347124\n"
     ]
    }
   ],
   "source": [
    "Sun_mean=df_whole.loc[df_whole['DAYOFWEEK']==1,'Waittime'].mean()\n",
    "Thurs_mean=df_whole.loc[df_whole['DAYOFWEEK']==5,'Waittime'].mean()\n",
    "Sun_std=df_whole.loc[df_whole['DAYOFWEEK']==1,'Waittime'].std()\n",
    "Thurs_std=df_whole.loc[df_whole['DAYOFWEEK']==5,'Waittime'].std()\n",
    "no_of_Sun=df_whole.loc[df_whole['DAYOFWEEK'] ==1,'Waittime'].count()\n",
    "no_of_Thurs=df_whole.loc[df_whole['DAYOFWEEK'] ==5,'Waittime'].count()\n",
    "print(Sun_mean, Thurs_mean)\n",
    "print(Sun_std, Thurs_std)\n",
    "print(no_of_Sun, no_of_Thurs)"
   ]
  },
  {
   "cell_type": "code",
   "execution_count": 36,
   "metadata": {},
   "outputs": [
    {
     "name": "stdout",
     "output_type": "stream",
     "text": [
      "z= 19.131 p= 0.0\n"
     ]
    }
   ],
   "source": [
    "import numpy\n",
    "from scipy.stats import norm\n",
    "def twoSampZ(X1, X2, mudiff, sd1, sd2, n1, n2):\n",
    "    pooledSE = numpy.sqrt(sd1**2/n1 + sd2**2/n2)\n",
    "    z = ((X1 - X2) - mudiff)/pooledSE\n",
    "    pval = 2*(1 - norm.cdf(abs(z)))\n",
    "    return round(z,3), pval\n",
    "z,p= twoSampZ(Sun_mean,Thurs_mean,0,Sun_std,Thurs_std,no_of_Sun,no_of_Thurs)\n",
    "print('z=', z, 'p=',p)"
   ]
  },
  {
   "cell_type": "code",
   "execution_count": 71,
   "metadata": {},
   "outputs": [
    {
     "name": "stdout",
     "output_type": "stream",
     "text": [
      "33.15984880463564 21.088168272443273\n",
      "28.711217143339475 18.01401651068867\n",
      "208472 175097\n"
     ]
    }
   ],
   "source": [
    "First_mean=df_whole.loc[df_whole['MONTHOFYEAR']==1,'Waittime'].mean()\n",
    "Second_mean=df_whole.loc[df_whole['MONTHOFYEAR']==9,'Waittime'].mean()\n",
    "First_std=df_whole.loc[df_whole['MONTHOFYEAR']==1,'Waittime'].std()\n",
    "Second_std=df_whole.loc[df_whole['MONTHOFYEAR']==9,'Waittime'].std()\n",
    "no_of_First=df_whole.loc[df_whole['MONTHOFYEAR'] ==1,'Waittime'].count()\n",
    "no_of_Second=df_whole.loc[df_whole['MONTHOFYEAR'] ==9,'Waittime'].count()\n",
    "print(First_mean, Second_mean)\n",
    "print(First_std, Second_std)\n",
    "print(no_of_First, no_of_Second)"
   ]
  },
  {
   "cell_type": "code",
   "execution_count": 66,
   "metadata": {},
   "outputs": [
    {
     "name": "stdout",
     "output_type": "stream",
     "text": [
      "z= 158.407 p= 0.0\n"
     ]
    }
   ],
   "source": [
    "import numpy\n",
    "from scipy.stats import norm\n",
    "def twoSampZ(X1, X2, mudiff, sd1, sd2, n1, n2):\n",
    "    pooledSE = numpy.sqrt(sd1**2/n1 + sd2**2/n2)\n",
    "    z = ((X1 - X2) - mudiff)/pooledSE\n",
    "    pval = 2*(1 - norm.cdf(abs(z)))\n",
    "    return round(z,3), pval\n",
    "z,p= twoSampZ(First_mean,Second_mean,0,First_std,Second_std,no_of_First,no_of_Second)\n",
    "print('z=', z, 'p=',p)"
   ]
  },
  {
   "cell_type": "code",
   "execution_count": 97,
   "metadata": {},
   "outputs": [
    {
     "name": "stdout",
     "output_type": "stream",
     "text": [
      "[[1.         0.06475724]\n",
      " [0.06475724 1.        ]]\n"
     ]
    }
   ],
   "source": [
    "#df1 = df_whole[df_whole[\"MONTHOFYEAR\"] <= 9][\"MONTHOFYEAR\"]\n",
    "#print(df1.head(5))\n",
    "pcc = np.corrcoef(df_whole[(df_whole[\"MONTHOFYEAR\"] <= 3) & (df_whole[\"MONTHOFYEAR\"] >=1)][\"MONTHOFYEAR\"], df_whole[(df_whole[\"MONTHOFYEAR\"] <= 3) & (df_whole[\"MONTHOFYEAR\"] >=1)][\"Waittime\"])\n",
    "print(pcc)"
   ]
  },
  {
   "cell_type": "code",
   "execution_count": 98,
   "metadata": {},
   "outputs": [
    {
     "data": {
      "text/html": [
       "<div>\n",
       "<style scoped>\n",
       "    .dataframe tbody tr th:only-of-type {\n",
       "        vertical-align: middle;\n",
       "    }\n",
       "\n",
       "    .dataframe tbody tr th {\n",
       "        vertical-align: top;\n",
       "    }\n",
       "\n",
       "    .dataframe thead th {\n",
       "        text-align: right;\n",
       "    }\n",
       "</style>\n",
       "<table border=\"1\" class=\"dataframe\">\n",
       "  <thead>\n",
       "    <tr style=\"text-align: right;\">\n",
       "      <th>Waittime</th>\n",
       "      <th>0.0</th>\n",
       "      <th>5.0</th>\n",
       "      <th>10.0</th>\n",
       "      <th>15.0</th>\n",
       "      <th>20.0</th>\n",
       "      <th>25.0</th>\n",
       "      <th>30.0</th>\n",
       "      <th>35.0</th>\n",
       "      <th>40.0</th>\n",
       "      <th>45.0</th>\n",
       "      <th>...</th>\n",
       "      <th>195.0</th>\n",
       "      <th>200.0</th>\n",
       "      <th>205.0</th>\n",
       "      <th>210.0</th>\n",
       "      <th>215.0</th>\n",
       "      <th>220.0</th>\n",
       "      <th>225.0</th>\n",
       "      <th>230.0</th>\n",
       "      <th>240.0</th>\n",
       "      <th>250.0</th>\n",
       "    </tr>\n",
       "    <tr>\n",
       "      <th>MONTHOFYEAR</th>\n",
       "      <th></th>\n",
       "      <th></th>\n",
       "      <th></th>\n",
       "      <th></th>\n",
       "      <th></th>\n",
       "      <th></th>\n",
       "      <th></th>\n",
       "      <th></th>\n",
       "      <th></th>\n",
       "      <th></th>\n",
       "      <th></th>\n",
       "      <th></th>\n",
       "      <th></th>\n",
       "      <th></th>\n",
       "      <th></th>\n",
       "      <th></th>\n",
       "      <th></th>\n",
       "      <th></th>\n",
       "      <th></th>\n",
       "      <th></th>\n",
       "      <th></th>\n",
       "    </tr>\n",
       "  </thead>\n",
       "  <tbody>\n",
       "    <tr>\n",
       "      <th>1</th>\n",
       "      <td>130</td>\n",
       "      <td>23030</td>\n",
       "      <td>39710</td>\n",
       "      <td>19806</td>\n",
       "      <td>18283</td>\n",
       "      <td>12528</td>\n",
       "      <td>13833</td>\n",
       "      <td>9910</td>\n",
       "      <td>10846</td>\n",
       "      <td>9137</td>\n",
       "      <td>...</td>\n",
       "      <td>16</td>\n",
       "      <td>12</td>\n",
       "      <td>7</td>\n",
       "      <td>14</td>\n",
       "      <td>10</td>\n",
       "      <td>1</td>\n",
       "      <td>0</td>\n",
       "      <td>5</td>\n",
       "      <td>10</td>\n",
       "      <td>1</td>\n",
       "    </tr>\n",
       "    <tr>\n",
       "      <th>2</th>\n",
       "      <td>40</td>\n",
       "      <td>19257</td>\n",
       "      <td>34578</td>\n",
       "      <td>17219</td>\n",
       "      <td>15269</td>\n",
       "      <td>12045</td>\n",
       "      <td>13091</td>\n",
       "      <td>10013</td>\n",
       "      <td>10877</td>\n",
       "      <td>9290</td>\n",
       "      <td>...</td>\n",
       "      <td>16</td>\n",
       "      <td>21</td>\n",
       "      <td>5</td>\n",
       "      <td>33</td>\n",
       "      <td>3</td>\n",
       "      <td>0</td>\n",
       "      <td>1</td>\n",
       "      <td>4</td>\n",
       "      <td>0</td>\n",
       "      <td>0</td>\n",
       "    </tr>\n",
       "    <tr>\n",
       "      <th>3</th>\n",
       "      <td>118</td>\n",
       "      <td>16890</td>\n",
       "      <td>33265</td>\n",
       "      <td>18548</td>\n",
       "      <td>15660</td>\n",
       "      <td>12889</td>\n",
       "      <td>13018</td>\n",
       "      <td>10521</td>\n",
       "      <td>10662</td>\n",
       "      <td>10798</td>\n",
       "      <td>...</td>\n",
       "      <td>30</td>\n",
       "      <td>23</td>\n",
       "      <td>5</td>\n",
       "      <td>3</td>\n",
       "      <td>2</td>\n",
       "      <td>0</td>\n",
       "      <td>1</td>\n",
       "      <td>0</td>\n",
       "      <td>1</td>\n",
       "      <td>0</td>\n",
       "    </tr>\n",
       "  </tbody>\n",
       "</table>\n",
       "<p>3 rows × 49 columns</p>\n",
       "</div>"
      ],
      "text/plain": [
       "Waittime     0.0    5.0    10.0   15.0   20.0   25.0   30.0   35.0   40.0   \\\n",
       "MONTHOFYEAR                                                                  \n",
       "1              130  23030  39710  19806  18283  12528  13833   9910  10846   \n",
       "2               40  19257  34578  17219  15269  12045  13091  10013  10877   \n",
       "3              118  16890  33265  18548  15660  12889  13018  10521  10662   \n",
       "\n",
       "Waittime     45.0   ...  195.0  200.0  205.0  210.0  215.0  220.0  225.0  \\\n",
       "MONTHOFYEAR         ...                                                    \n",
       "1             9137  ...     16     12      7     14     10      1      0   \n",
       "2             9290  ...     16     21      5     33      3      0      1   \n",
       "3            10798  ...     30     23      5      3      2      0      1   \n",
       "\n",
       "Waittime     230.0  240.0  250.0  \n",
       "MONTHOFYEAR                       \n",
       "1                5     10      1  \n",
       "2                4      0      0  \n",
       "3                0      1      0  \n",
       "\n",
       "[3 rows x 49 columns]"
      ]
     },
     "execution_count": 98,
     "metadata": {},
     "output_type": "execute_result"
    }
   ],
   "source": [
    "dataset_table=pd.crosstab(df_whole[(df_whole[\"MONTHOFYEAR\"] <= 3) & (df_whole[\"MONTHOFYEAR\"] >=1)][\"MONTHOFYEAR\"],df_whole[(df_whole[\"MONTHOFYEAR\"] <= 3) & (df_whole[\"MONTHOFYEAR\"] >=1)][\"Waittime\"])\n",
    "dataset_table"
   ]
  }
 ],
 "metadata": {
  "kernelspec": {
   "display_name": "Python 3.9.7 64-bit",
   "language": "python",
   "name": "python3"
  },
  "language_info": {
   "codemirror_mode": {
    "name": "ipython",
    "version": 3
   },
   "file_extension": ".py",
   "mimetype": "text/x-python",
   "name": "python",
   "nbconvert_exporter": "python",
   "pygments_lexer": "ipython3",
   "version": "3.9.7"
  },
  "orig_nbformat": 4,
  "vscode": {
   "interpreter": {
    "hash": "6752f5b08c1783b914aae51d910f67c7fdce8653a075e9fcde9adeff71b7d222"
   }
  }
 },
 "nbformat": 4,
 "nbformat_minor": 2
}
