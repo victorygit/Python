{
 "cells": [
  {
   "cell_type": "code",
   "execution_count": 2,
   "metadata": {},
   "outputs": [],
   "source": [
    "import os\n",
    "import pandas as pd\n",
    "import datetime\n",
    "from datetime import datetime\n",
    "import math\n",
    "import numpy as np\n",
    "\n",
    "\n",
    "\n",
    "df_whole = pd.DataFrame()\n",
    "ride_file = \"G:\\\\My Drive\\\\Cindy\\\\IB11\\\\Math IA\\\\ridedatanew\\\\rides.csv\"\n",
    "df_ride = pd.read_csv(ride_file, header=0)\n",
    "meta_file = \"G:\\\\My Drive\\\\Cindy\\\\IB11\\\\Math IA\\\\Metadata\\\\metadata.csv\"\n",
    "df_meta = pd.read_csv(meta_file, header=0)\n"
   ]
  },
  {
   "cell_type": "code",
   "execution_count": 3,
   "metadata": {},
   "outputs": [
    {
     "name": "stdout",
     "output_type": "stream",
     "text": [
      "   Unnamed: 0        date          datetime  SACTMIN  SPOSTMIN        Ride  \\\n",
      "0           0  01/01/2015   2015-01-01 8:35      NaN      10.0  SmallWorld   \n",
      "1           1  01/01/2015   2015-01-01 9:18      NaN      10.0  SmallWorld   \n",
      "2           2  01/01/2015   2015-01-01 9:52      NaN      40.0  SmallWorld   \n",
      "3           3  01/01/2015  2015-01-01 10:57      NaN      20.0  SmallWorld   \n",
      "4           4  01/01/2015  2015-01-01 10:57     33.0       NaN  SmallWorld   \n",
      "\n",
      "  oritime  Hour  Mins NewTime  Waittime  \n",
      "0   08:35     8    35   08:30      10.0  \n",
      "1   09:18     9    18   09:15      10.0  \n",
      "2   09:52     9    52   09:45      40.0  \n",
      "3   10:57    10    57   10:45      20.0  \n",
      "4   10:57    10    57   10:45      20.0  \n",
      "         DATE WDW_TICKET_SEASON  DAYOFWEEK  DAYOFYEAR  WEEKOFYEAR  \\\n",
      "0  01/01/2015               NaN          5          0           0   \n",
      "1  01/02/2015               NaN          6          1           0   \n",
      "2  01/03/2015               NaN          7          2           0   \n",
      "3  01/04/2015               NaN          1          3           1   \n",
      "4  01/05/2015               NaN          2          4           1   \n",
      "\n",
      "   MONTHOFYEAR  YEAR          SEASON  HOLIDAYPX  HOLIDAYM  ... HSFIREWKS  \\\n",
      "0            1  2015  CHRISTMAS PEAK          0         5  ...         1   \n",
      "1            1  2015       CHRISTMAS          2         5  ...         1   \n",
      "2            1  2015       CHRISTMAS          3         0  ...         1   \n",
      "3            1  2015       CHRISTMAS          4         0  ...         1   \n",
      "4            1  2015       CHRISTMAS          5         0  ...         1   \n",
      "\n",
      "   AKPRDDAY AKPRDDT1 AKPRDDT2 AKPRDDN  AKFIREN  AKSHWNGT AKSHWNT1  AKSHWNT2  \\\n",
      "0         0      NaN      NaN     NaN      NaN         0      NaN       NaN   \n",
      "1         0      NaN      NaN     NaN      NaN         0      NaN       NaN   \n",
      "2         0      NaN      NaN     NaN      NaN         0      NaN       NaN   \n",
      "3         0      NaN      NaN     NaN      NaN         0      NaN       NaN   \n",
      "4         0      NaN      NaN     NaN      NaN         0      NaN       NaN   \n",
      "\n",
      "   AKSHWNN  \n",
      "0      NaN  \n",
      "1      NaN  \n",
      "2      NaN  \n",
      "3      NaN  \n",
      "4      NaN  \n",
      "\n",
      "[5 rows x 181 columns]\n"
     ]
    }
   ],
   "source": [
    "print(df_ride.head(5))\n",
    "print(df_meta.head(5))\n"
   ]
  },
  {
   "cell_type": "code",
   "execution_count": 4,
   "metadata": {},
   "outputs": [
    {
     "name": "stdout",
     "output_type": "stream",
     "text": [
      "0    2015\n",
      "1    2015\n",
      "2    2015\n",
      "3    2015\n",
      "4    2015\n",
      "Name: YEAR, dtype: int64\n"
     ]
    }
   ],
   "source": [
    "df_whole = pd.merge(df_ride, df_meta, left_on='date', right_on='DATE', how='inner')\n",
    "#df_meta.info()\n",
    "print(df_whole[\"YEAR\"].head(5))\n",
    "\n"
   ]
  },
  {
   "cell_type": "code",
   "execution_count": 35,
   "metadata": {},
   "outputs": [
    {
     "name": "stdout",
     "output_type": "stream",
     "text": [
      "30.78498955658843 29.574201150021317\n",
      "27.062681081816304 26.282697425724614\n",
      "363387 347124\n"
     ]
    }
   ],
   "source": [
    "Sun_mean=df_whole.loc[df_whole['DAYOFWEEK']==1,'Waittime'].mean()\n",
    "Thurs_mean=df_whole.loc[df_whole['DAYOFWEEK']==5,'Waittime'].mean()\n",
    "Sun_std=df_whole.loc[df_whole['DAYOFWEEK']==1,'Waittime'].std()\n",
    "Thurs_std=df_whole.loc[df_whole['DAYOFWEEK']==5,'Waittime'].std()\n",
    "no_of_Sun=df_whole.loc[df_whole['DAYOFWEEK'] ==1,'Waittime'].count()\n",
    "no_of_Thurs=df_whole.loc[df_whole['DAYOFWEEK'] ==5,'Waittime'].count()\n",
    "print(Sun_mean, Thurs_mean)\n",
    "print(Sun_std, Thurs_std)\n",
    "print(no_of_Sun, no_of_Thurs)"
   ]
  },
  {
   "cell_type": "code",
   "execution_count": 36,
   "metadata": {},
   "outputs": [
    {
     "name": "stdout",
     "output_type": "stream",
     "text": [
      "z= 19.131 p= 0.0\n"
     ]
    }
   ],
   "source": [
    "import numpy\n",
    "from scipy.stats import norm\n",
    "def twoSampZ(X1, X2, mudiff, sd1, sd2, n1, n2):\n",
    "    pooledSE = numpy.sqrt(sd1**2/n1 + sd2**2/n2)\n",
    "    z = ((X1 - X2) - mudiff)/pooledSE\n",
    "    pval = 2*(1 - norm.cdf(abs(z)))\n",
    "    return round(z,3), pval\n",
    "z,p= twoSampZ(Sun_mean,Thurs_mean,0,Sun_std,Thurs_std,no_of_Sun,no_of_Thurs)\n",
    "print('z=', z, 'p=',p)"
   ]
  },
  {
   "cell_type": "code",
   "execution_count": 71,
   "metadata": {},
   "outputs": [
    {
     "name": "stdout",
     "output_type": "stream",
     "text": [
      "33.15984880463564 21.088168272443273\n",
      "28.711217143339475 18.01401651068867\n",
      "208472 175097\n"
     ]
    }
   ],
   "source": [
    "First_mean=df_whole.loc[df_whole['MONTHOFYEAR']==1,'Waittime'].mean()\n",
    "Second_mean=df_whole.loc[df_whole['MONTHOFYEAR']==9,'Waittime'].mean()\n",
    "First_std=df_whole.loc[df_whole['MONTHOFYEAR']==1,'Waittime'].std()\n",
    "Second_std=df_whole.loc[df_whole['MONTHOFYEAR']==9,'Waittime'].std()\n",
    "no_of_First=df_whole.loc[df_whole['MONTHOFYEAR'] ==1,'Waittime'].count()\n",
    "no_of_Second=df_whole.loc[df_whole['MONTHOFYEAR'] ==9,'Waittime'].count()\n",
    "print(First_mean, Second_mean)\n",
    "print(First_std, Second_std)\n",
    "print(no_of_First, no_of_Second)"
   ]
  },
  {
   "cell_type": "code",
   "execution_count": 66,
   "metadata": {},
   "outputs": [
    {
     "name": "stdout",
     "output_type": "stream",
     "text": [
      "z= 158.407 p= 0.0\n"
     ]
    }
   ],
   "source": [
    "import numpy\n",
    "from scipy.stats import norm\n",
    "def twoSampZ(X1, X2, mudiff, sd1, sd2, n1, n2):\n",
    "    pooledSE = numpy.sqrt(sd1**2/n1 + sd2**2/n2)\n",
    "    z = ((X1 - X2) - mudiff)/pooledSE\n",
    "    pval = 2*(1 - norm.cdf(abs(z)))\n",
    "    return round(z,3), pval\n",
    "z,p= twoSampZ(First_mean,Second_mean,0,First_std,Second_std,no_of_First,no_of_Second)\n",
    "print('z=', z, 'p=',p)"
   ]
  },
  {
   "cell_type": "code",
   "execution_count": 97,
   "metadata": {},
   "outputs": [
    {
     "name": "stdout",
     "output_type": "stream",
     "text": [
      "[[1.         0.06475724]\n",
      " [0.06475724 1.        ]]\n"
     ]
    }
   ],
   "source": [
    "#df1 = df_whole[df_whole[\"MONTHOFYEAR\"] <= 9][\"MONTHOFYEAR\"]\n",
    "#print(df1.head(5))\n",
    "pcc = np.corrcoef(df_whole[(df_whole[\"MONTHOFYEAR\"] <= 3) & (df_whole[\"MONTHOFYEAR\"] >=1)][\"MONTHOFYEAR\"], df_whole[(df_whole[\"MONTHOFYEAR\"] <= 3) & (df_whole[\"MONTHOFYEAR\"] >=1)][\"Waittime\"])\n",
    "print(pcc)"
   ]
  },
  {
   "cell_type": "code",
   "execution_count": 98,
   "metadata": {},
   "outputs": [
    {
     "data": {
      "text/html": [
       "<div>\n",
       "<style scoped>\n",
       "    .dataframe tbody tr th:only-of-type {\n",
       "        vertical-align: middle;\n",
       "    }\n",
       "\n",
       "    .dataframe tbody tr th {\n",
       "        vertical-align: top;\n",
       "    }\n",
       "\n",
       "    .dataframe thead th {\n",
       "        text-align: right;\n",
       "    }\n",
       "</style>\n",
       "<table border=\"1\" class=\"dataframe\">\n",
       "  <thead>\n",
       "    <tr style=\"text-align: right;\">\n",
       "      <th>Waittime</th>\n",
       "      <th>0.0</th>\n",
       "      <th>5.0</th>\n",
       "      <th>10.0</th>\n",
       "      <th>15.0</th>\n",
       "      <th>20.0</th>\n",
       "      <th>25.0</th>\n",
       "      <th>30.0</th>\n",
       "      <th>35.0</th>\n",
       "      <th>40.0</th>\n",
       "      <th>45.0</th>\n",
       "      <th>...</th>\n",
       "      <th>195.0</th>\n",
       "      <th>200.0</th>\n",
       "      <th>205.0</th>\n",
       "      <th>210.0</th>\n",
       "      <th>215.0</th>\n",
       "      <th>220.0</th>\n",
       "      <th>225.0</th>\n",
       "      <th>230.0</th>\n",
       "      <th>240.0</th>\n",
       "      <th>250.0</th>\n",
       "    </tr>\n",
       "    <tr>\n",
       "      <th>MONTHOFYEAR</th>\n",
       "      <th></th>\n",
       "      <th></th>\n",
       "      <th></th>\n",
       "      <th></th>\n",
       "      <th></th>\n",
       "      <th></th>\n",
       "      <th></th>\n",
       "      <th></th>\n",
       "      <th></th>\n",
       "      <th></th>\n",
       "      <th></th>\n",
       "      <th></th>\n",
       "      <th></th>\n",
       "      <th></th>\n",
       "      <th></th>\n",
       "      <th></th>\n",
       "      <th></th>\n",
       "      <th></th>\n",
       "      <th></th>\n",
       "      <th></th>\n",
       "      <th></th>\n",
       "    </tr>\n",
       "  </thead>\n",
       "  <tbody>\n",
       "    <tr>\n",
       "      <th>1</th>\n",
       "      <td>130</td>\n",
       "      <td>23030</td>\n",
       "      <td>39710</td>\n",
       "      <td>19806</td>\n",
       "      <td>18283</td>\n",
       "      <td>12528</td>\n",
       "      <td>13833</td>\n",
       "      <td>9910</td>\n",
       "      <td>10846</td>\n",
       "      <td>9137</td>\n",
       "      <td>...</td>\n",
       "      <td>16</td>\n",
       "      <td>12</td>\n",
       "      <td>7</td>\n",
       "      <td>14</td>\n",
       "      <td>10</td>\n",
       "      <td>1</td>\n",
       "      <td>0</td>\n",
       "      <td>5</td>\n",
       "      <td>10</td>\n",
       "      <td>1</td>\n",
       "    </tr>\n",
       "    <tr>\n",
       "      <th>2</th>\n",
       "      <td>40</td>\n",
       "      <td>19257</td>\n",
       "      <td>34578</td>\n",
       "      <td>17219</td>\n",
       "      <td>15269</td>\n",
       "      <td>12045</td>\n",
       "      <td>13091</td>\n",
       "      <td>10013</td>\n",
       "      <td>10877</td>\n",
       "      <td>9290</td>\n",
       "      <td>...</td>\n",
       "      <td>16</td>\n",
       "      <td>21</td>\n",
       "      <td>5</td>\n",
       "      <td>33</td>\n",
       "      <td>3</td>\n",
       "      <td>0</td>\n",
       "      <td>1</td>\n",
       "      <td>4</td>\n",
       "      <td>0</td>\n",
       "      <td>0</td>\n",
       "    </tr>\n",
       "    <tr>\n",
       "      <th>3</th>\n",
       "      <td>118</td>\n",
       "      <td>16890</td>\n",
       "      <td>33265</td>\n",
       "      <td>18548</td>\n",
       "      <td>15660</td>\n",
       "      <td>12889</td>\n",
       "      <td>13018</td>\n",
       "      <td>10521</td>\n",
       "      <td>10662</td>\n",
       "      <td>10798</td>\n",
       "      <td>...</td>\n",
       "      <td>30</td>\n",
       "      <td>23</td>\n",
       "      <td>5</td>\n",
       "      <td>3</td>\n",
       "      <td>2</td>\n",
       "      <td>0</td>\n",
       "      <td>1</td>\n",
       "      <td>0</td>\n",
       "      <td>1</td>\n",
       "      <td>0</td>\n",
       "    </tr>\n",
       "  </tbody>\n",
       "</table>\n",
       "<p>3 rows × 49 columns</p>\n",
       "</div>"
      ],
      "text/plain": [
       "Waittime     0.0    5.0    10.0   15.0   20.0   25.0   30.0   35.0   40.0   \\\n",
       "MONTHOFYEAR                                                                  \n",
       "1              130  23030  39710  19806  18283  12528  13833   9910  10846   \n",
       "2               40  19257  34578  17219  15269  12045  13091  10013  10877   \n",
       "3              118  16890  33265  18548  15660  12889  13018  10521  10662   \n",
       "\n",
       "Waittime     45.0   ...  195.0  200.0  205.0  210.0  215.0  220.0  225.0  \\\n",
       "MONTHOFYEAR         ...                                                    \n",
       "1             9137  ...     16     12      7     14     10      1      0   \n",
       "2             9290  ...     16     21      5     33      3      0      1   \n",
       "3            10798  ...     30     23      5      3      2      0      1   \n",
       "\n",
       "Waittime     230.0  240.0  250.0  \n",
       "MONTHOFYEAR                       \n",
       "1                5     10      1  \n",
       "2                4      0      0  \n",
       "3                0      1      0  \n",
       "\n",
       "[3 rows x 49 columns]"
      ]
     },
     "execution_count": 98,
     "metadata": {},
     "output_type": "execute_result"
    }
   ],
   "source": [
    "dataset_table=pd.crosstab(df_whole[(df_whole[\"MONTHOFYEAR\"] <= 3) & (df_whole[\"MONTHOFYEAR\"] >=1)][\"MONTHOFYEAR\"],df_whole[(df_whole[\"MONTHOFYEAR\"] <= 3) & (df_whole[\"MONTHOFYEAR\"] >=1)][\"Waittime\"])\n",
    "dataset_table"
   ]
  }
 ],
 "metadata": {
  "kernelspec": {
   "display_name": "Python 3.9.7 64-bit",
   "language": "python",
   "name": "python3"
  },
  "language_info": {
   "codemirror_mode": {
    "name": "ipython",
    "version": 3
   },
   "file_extension": ".py",
   "mimetype": "text/x-python",
   "name": "python",
   "nbconvert_exporter": "python",
   "pygments_lexer": "ipython3",
   "version": "3.9.7"
  },
  "orig_nbformat": 4,
  "vscode": {
   "interpreter": {
    "hash": "6752f5b08c1783b914aae51d910f67c7fdce8653a075e9fcde9adeff71b7d222"
   }
  }
 },
 "nbformat": 4,
 "nbformat_minor": 2
}
